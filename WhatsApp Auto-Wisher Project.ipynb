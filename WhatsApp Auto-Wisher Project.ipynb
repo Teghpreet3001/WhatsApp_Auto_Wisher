{
 "cells": [
  {
   "cell_type": "markdown",
   "id": "952f39f3",
   "metadata": {},
   "source": [
    "## WhatsApp Auto-Wisher Project\n",
    "\n",
    "THE INTERN ACADEMY \n",
    "\n",
    "Task 2: Whatsapp Auto Wisher\n",
    "\n",
    "Team Name: PyChamps\n",
    "\n",
    "Domain: Python Projects\n"
   ]
  },
  {
   "cell_type": "markdown",
   "id": "d9c65972",
   "metadata": {},
   "source": [
    "### Problem Statement:\n",
    "Now-a-days we are watching that it has become a trend to message in whatsapp and wish birthdays, anniversaries or any special occasion. But yesterday was my friend’s birthday and I forget to wish him. You need to automate WhatsApp and set the date and time at which the wish of occasion will be automatically sent to the person you want. Create a user interface also with it.\n",
    "\n",
    "### Features of the project:\n",
    "\n",
    "Softwares Used: In this project, we have used Python Programming Language (Version-3.7 and IDE-Jupyter Notebook) and its built in libraries like pymysql (Database Management)and Tkinter (GUI Development).The project also explores MySQL through phpMyAdmin (Server-127.0.0.1) and uses a subset of queries to work in between Python and MySQL softwares.\n",
    "\n",
    "Working: ON successfully running the code, an interface asking for your name and the birthday wish you to send. After submitting the form, it takes you to a interface where all you do is confirm sending you message by pressing enter. The code automatically picks up the name and phone number of the person from the database and sends the wish via WhatsApp. \n",
    "\n",
    "GUI Development: We have used tkinter Python Library for presentable/attractive GUI developement. Alongside using tkinter options like Frame, Buttons, Labels, Headings and Entries, we use used the keyword 'self' with all functions to avoid the attribute error from occuring. \n",
    "\n",
    "MySQL: Using the XAMPP Control Panel (Version-3.3.0), we have created a table 'contact' in the database 'whatsapp' using MySQL through phpMyAdmin (Server-127.0.0.1). The columns along with their datatypes are SNo int(2), Name\tvarchar(20), Birth_Date\tvarchar(4), Phone_No bigint(10). \n",
    "\n",
    "OS Module: We have used the OS module in Python to provide functions for creating and removing a directory (folder), fetching its contents, changing and identifying the current directory, etc. The module links our source to WhatsApp Operating System.\n"
   ]
  },
  {
   "cell_type": "code",
   "execution_count": 1,
   "id": "7b8c03fd",
   "metadata": {},
   "outputs": [
    {
     "name": "stdout",
     "output_type": "stream",
     "text": [
      "Requirement already satisfied: pymysql in c:\\users\\hp\\anaconda3\\lib\\site-packages (1.0.2)\n",
      "Note: you may need to restart the kernel to use updated packages.\n"
     ]
    }
   ],
   "source": [
    "pip install pymysql"
   ]
  },
  {
   "cell_type": "code",
   "execution_count": 12,
   "id": "3284e2ac",
   "metadata": {},
   "outputs": [
    {
     "name": "stdout",
     "output_type": "stream",
     "text": [
      "0911\n"
     ]
    }
   ],
   "source": [
    "import datetime\n",
    "import os\n",
    "from tkinter import *\n",
    "import pymysql\n",
    "\n",
    "now=str(datetime.date.today())\n",
    "Today=now[8:10]+now[5:7]\n",
    "print(Today)\n",
    "\n",
    "class wisher:\n",
    "    def __init__(self):\n",
    "        self.root = Tk()\n",
    "        self.root.title('WhatsApp AutoWisher Project')\n",
    "        \n",
    "        self.root.geometry('700x400')\n",
    "        self.root.resizable(False,False)\n",
    "        self.root.configure(bg='#6cf542')\n",
    "        \n",
    "        self.heading = Label(self.root, text='WhatsAPP AutoWisher', font=('Times New Roman',40,'bold'),bg='#03a116',fg='white')\n",
    "        self.heading.place(x=0,y=30,relwidth=1)\n",
    "        \n",
    "        self.f1 = Frame(self.root, bg=\"#6cf542\")\n",
    "        self.f1.place(x=0,y=100,relheight=1,relwidth=1)\n",
    "        \n",
    "        self.name = Label(self.f1,text='Enter your Name :',font=('Times New Roman',16,''),bg=\"#6cf542\",fg='black')\n",
    "        self.name.place(x=70,y=50)\n",
    "        \n",
    "        self.entermail = Entry(self.f1,bg=\"white\",fg='black')\n",
    "        self.entermail.place(x=240,y=50,height=35,width=400)\n",
    "        \n",
    "        self.password = Label(self.f1,text='Enter your Message',font=('Times New Roman',16,''),bg=\"#6cf542\",fg='black')\n",
    "        self.password.place(x=70,y=100)\n",
    "        \n",
    "        self.enterpass = Entry(self.f1,bg=\"white\",fg='black')\n",
    "        self.enterpass.place(x=240,y=100,height=35,width=400)\n",
    "        \n",
    "        self.b1 = Button(self.f1,text='Send wish!',command = self.send, fg='#044970',font=('Glacial Indiffernece',14,''),bg='#b5f7c6')\n",
    "        self.b1.place(x=70,y=150,width=570,height=35)\n",
    "        \n",
    "        self.root.mainloop()\n",
    "        \n",
    "    def send(self) :\n",
    "        mycon = pymysql.connect(host=\"localhost\",user=\"root\",password=\"\",database =\"whatsapp\")\n",
    "        mycursor = mycon.cursor()\n",
    "        mycursor.execute(f\"SELECT * FROM contact WHERE Birth_Date = {Today}\")\n",
    "        list1 = mycursor.fetchall()\n",
    "        for i in list1:\n",
    "            print(i)\n",
    "        input(\"Simply press enter to send wish. Make sure to connect to internet!\")\n",
    "        for i in list1:\n",
    "            os.system(f\"start https://web.whatsapp.com/send?phone=91{i[3]}^&text=HAPPY%20BIRTHDAY%20{i[1]}\")\n",
    "            \n",
    "ob = wisher()  \n"
   ]
  },
  {
   "cell_type": "code",
   "execution_count": null,
   "id": "8fb0890e",
   "metadata": {},
   "outputs": [],
   "source": []
  }
 ],
 "metadata": {
  "kernelspec": {
   "display_name": "Python 3",
   "language": "python",
   "name": "python3"
  },
  "language_info": {
   "codemirror_mode": {
    "name": "ipython",
    "version": 3
   },
   "file_extension": ".py",
   "mimetype": "text/x-python",
   "name": "python",
   "nbconvert_exporter": "python",
   "pygments_lexer": "ipython3",
   "version": "3.8.8"
  }
 },
 "nbformat": 4,
 "nbformat_minor": 5
}
